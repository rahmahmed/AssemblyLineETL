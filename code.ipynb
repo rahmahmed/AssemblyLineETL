{
 "cells": [
  {
   "cell_type": "code",
   "execution_count": 72,
   "metadata": {
    "scrolled": true
   },
   "outputs": [
    {
     "name": "stdout",
     "output_type": "stream",
     "text": [
      "+------------------+--------------+--------------------+-----------+\n",
      "|unit_serial_number|  station_name|   station_timestamp|test_result|\n",
      "+------------------+--------------+--------------------+-----------+\n",
      "|     0LEVCMM6T0DH4|A Test Station|9/30/2016 1:22:39...|       PASS|\n",
      "|     G54QQ8YBUUM3H|A Test Station|9/21/2016 12:41:4...|       PASS|\n",
      "|     9COC7QINPYURQ|A Test Station|9/28/2016 3:27:43...|       PASS|\n",
      "|     OWEMC91IOQYRI|A Test Station|9/6/2016 10:20:29...|       PASS|\n",
      "|     SK9WCU55XLJ6W|A Test Station|9/22/2016 3:46:27...|       FAIL|\n",
      "|     QZPEJNTI0P7OZ|A Test Station|9/29/2016 11:25:1...|       PASS|\n",
      "|     XI1NNKOS842SA|A Test Station|9/30/2016 8:30:51...|       PASS|\n",
      "|     Q0N116HU440C1|A Test Station|9/23/2016 3:58:34...|       FAIL|\n",
      "|     FWDU8VN8DJGWG|A Test Station|9/16/2016 1:12:27...|       PASS|\n",
      "|     ZAYSS34PRHW1P|A Test Station|9/18/2016 12:11:5...|       PASS|\n",
      "|     XYPB3GJD5M8F0|A Test Station|9/13/2016 12:46:0...|       PASS|\n",
      "|     LDPQD0YZP457O|A Test Station|9/4/2016 8:48:42 ...|       PASS|\n",
      "|     HAVMJEMMNXVFX|A Test Station|9/8/2016 4:41:24 ...|       PASS|\n",
      "|     9MSYK8H8LG5VK|A Test Station|9/15/2016 10:37:5...|       PASS|\n",
      "|     UU3IU55NGKGP6|A Test Station|9/22/2016 1:43:57...|       PASS|\n",
      "|     U08VDRYFYNG6I|A Test Station|9/13/2016 1:35:38...|       PASS|\n",
      "|     X2W7CAWTNK1RB|A Test Station|9/2/2016 12:36:32...|       PASS|\n",
      "|     C9T44KACGY32F|A Test Station|9/15/2016 3:48:14...|       PASS|\n",
      "|     7XH3OOH69SPCC|A Test Station|9/19/2016 10:17:1...|       PASS|\n",
      "|     R8LBRZ8SBYR8I|A Test Station|9/24/2016 10:35:2...|       PASS|\n",
      "+------------------+--------------+--------------------+-----------+\n",
      "only showing top 20 rows\n",
      "\n"
     ]
    }
   ],
   "source": [
    "test_data = spark.read.format('csv').option('header','true').load('Test_Data.csv')\n",
    "test_data.show()\n",
    "test_data.createOrReplaceTempView(\"test_data\")"
   ]
  },
  {
   "cell_type": "code",
   "execution_count": 74,
   "metadata": {},
   "outputs": [
    {
     "data": {
      "text/plain": [
       "12994"
      ]
     },
     "execution_count": 74,
     "metadata": {},
     "output_type": "execute_result"
    }
   ],
   "source": [
    "test_data.count()"
   ]
  },
  {
   "cell_type": "code",
   "execution_count": 75,
   "metadata": {},
   "outputs": [
    {
     "name": "stdout",
     "output_type": "stream",
     "text": [
      "+------------------+-----------+--------------------+------------------------+\n",
      "|unit_serial_number|module_name|module_serial_number|module_install_timestamp|\n",
      "+------------------+-----------+--------------------+------------------------+\n",
      "| 981S2L5PU6BR1UE6S|        CRA|   ACL4G7DD9R581VTBN|    9/29/2016 9:37:13...|\n",
      "| W7DCXNIU1V1PDXK17|        FIN|   CT0VC6EKQ20H1R0RE|    9/17/2016 1:38:54...|\n",
      "| TKQ9IDBT20J7PSMI3|        SID|   OZW8QVDUWAMMD2N98|    9/22/2016 2:18:18...|\n",
      "| S19HT025HIZZ5L2BS|        FIN|   5VLF129WX8IIZSU6Y|    9/7/2016 2:21:49 ...|\n",
      "| NLGQGZFF5I9PE89JH|        CRA|   60OHPICJWA0ALK945|    9/17/2016 3:32:46...|\n",
      "|     L818V2T4CET7E|        SUB|   0860T7WMKI6Z05FY7|    9/17/2016 3:54:22...|\n",
      "| VWO2W7Q6149MGYXEF|        CRA|   KJB70OUG7MF01GO79|    9/15/2016 9:24:51...|\n",
      "| YU2LGATXEELZZFIO8|        SID|   8H3PI1E8LRJAQ7JR1|    9/28/2016 2:22:59...|\n",
      "| E0898YO9BLCK0YW7E|        CRA|   PQ5GK27C74TR1ABH4|    8/31/2016 3:47:11...|\n",
      "|     U4BOOZRMW1OJ0|        SUB|   0E0ARAU541EZGBURT|    9/20/2016 8:11:24...|\n",
      "| WKRQ6AE4DX8IIZRWZ|        CRA|   EY216N9DY76AURJ7U|    9/13/2016 2:16:26...|\n",
      "| LLVMKJV50N8JZCND4|        FIN|   8XIV3H8M9QHG6LCUT|    9/9/2016 12:10:12...|\n",
      "| 4SW2PGN2RTIOO8M2S|        SID|   T65H7L84SASPHUPAS|    9/15/2016 10:49:4...|\n",
      "| K8BER2BZBFUE8G8A3|        FIN|   2BZOJQ5Q0BP1YIIJS|    9/19/2016 11:24:5...|\n",
      "| O2ILZRHTBAIWVIL33|        SID|   GS7Z43PJH9HLB0V08|    9/20/2016 1:40:26...|\n",
      "| IFWA36PDOQMNG84NL|        CRA|   6ESE3O6O4KCWQRL04|    9/6/2016 2:51:45 ...|\n",
      "| 4BU2KBW1NZ86K06MM|        SID|   MN0LCCPR2L2ODNS3X|    9/8/2016 1:14:31 ...|\n",
      "| AVN3ISPQMH97DGUQ7|        CRA|   6GHFEEOOAYQ12FXSW|    9/22/2016 4:54:59...|\n",
      "| WXNLO4XBCEP3DAHOT|        SID|   BUHY37EAO8ZD86NZT|    9/28/2016 7:58:29...|\n",
      "| 6Z0TTPYAM5YKXJ9FF|        FIN|   893C6SNKAMX9LCWVF|    9/29/2016 10:19:5...|\n",
      "+------------------+-----------+--------------------+------------------------+\n",
      "only showing top 20 rows\n",
      "\n"
     ]
    }
   ],
   "source": [
    "module_data = spark.read.format('csv').option('header','true').load('Module_Data.csv')\n",
    "module_data.show()\n",
    "module_data.createOrReplaceTempView(\"module_data\")"
   ]
  },
  {
   "cell_type": "code",
   "execution_count": 77,
   "metadata": {},
   "outputs": [
    {
     "data": {
      "text/plain": [
       "55821"
      ]
     },
     "execution_count": 77,
     "metadata": {},
     "output_type": "execute_result"
    }
   ],
   "source": [
    "module_data.count()"
   ]
  },
  {
   "cell_type": "code",
   "execution_count": 41,
   "metadata": {},
   "outputs": [
    {
     "name": "stdout",
     "output_type": "stream",
     "text": [
      "+------------------+--------------+-------------------+-----------+\n",
      "|unit_serial_number|  station_name|  station_timestamp|test_result|\n",
      "+------------------+--------------+-------------------+-----------+\n",
      "|     0LEVCMM6T0DH4|A Test Station|2016-09-30 13:22:39|       PASS|\n",
      "|     G54QQ8YBUUM3H|A Test Station|2016-09-21 00:41:49|       PASS|\n",
      "|     9COC7QINPYURQ|A Test Station|2016-09-28 03:27:43|       PASS|\n",
      "|     OWEMC91IOQYRI|A Test Station|2016-09-06 10:20:29|       PASS|\n",
      "|     SK9WCU55XLJ6W|A Test Station|2016-09-22 15:46:27|       FAIL|\n",
      "|     QZPEJNTI0P7OZ|A Test Station|2016-09-29 11:25:13|       PASS|\n",
      "|     XI1NNKOS842SA|A Test Station|2016-09-30 20:30:51|       PASS|\n",
      "|     Q0N116HU440C1|A Test Station|2016-09-23 03:58:34|       FAIL|\n",
      "|     FWDU8VN8DJGWG|A Test Station|2016-09-16 01:12:27|       PASS|\n",
      "|     ZAYSS34PRHW1P|A Test Station|2016-09-18 00:11:53|       PASS|\n",
      "|     XYPB3GJD5M8F0|A Test Station|2016-09-13 00:46:01|       PASS|\n",
      "|     LDPQD0YZP457O|A Test Station|2016-09-04 08:48:42|       PASS|\n",
      "|     HAVMJEMMNXVFX|A Test Station|2016-09-08 16:41:24|       PASS|\n",
      "|     9MSYK8H8LG5VK|A Test Station|2016-09-15 22:37:58|       PASS|\n",
      "|     UU3IU55NGKGP6|A Test Station|2016-09-22 13:43:57|       PASS|\n",
      "|     U08VDRYFYNG6I|A Test Station|2016-09-13 13:35:38|       PASS|\n",
      "|     X2W7CAWTNK1RB|A Test Station|2016-09-02 00:36:32|       PASS|\n",
      "|     C9T44KACGY32F|A Test Station|2016-09-15 15:48:14|       PASS|\n",
      "|     7XH3OOH69SPCC|A Test Station|2016-09-19 22:17:19|       PASS|\n",
      "|     R8LBRZ8SBYR8I|A Test Station|2016-09-24 10:35:21|       PASS|\n",
      "+------------------+--------------+-------------------+-----------+\n",
      "only showing top 20 rows\n",
      "\n"
     ]
    }
   ],
   "source": [
    "test_data_datetime = spark.sql(\"SELECT unit_serial_number, station_name, CAST(UNIX_TIMESTAMP(station_timestamp, 'MM/dd/yyyy hh:mm:ss  aa') AS TIMESTAMP) AS station_timestamp, test_result from test_data\")\n",
    "test_data_datetime.show()\n",
    "test_data_datetime.createOrReplaceTempView(\"test_data_datetime\")"
   ]
  },
  {
   "cell_type": "code",
   "execution_count": 78,
   "metadata": {},
   "outputs": [
    {
     "data": {
      "text/plain": [
       "12994"
      ]
     },
     "execution_count": 78,
     "metadata": {},
     "output_type": "execute_result"
    }
   ],
   "source": [
    "test_data_datetime.count()"
   ]
  },
  {
   "cell_type": "code",
   "execution_count": 39,
   "metadata": {},
   "outputs": [
    {
     "name": "stdout",
     "output_type": "stream",
     "text": [
      "+------------------+-----------+--------------------+------------------------+\n",
      "|unit_serial_number|module_name|module_serial_number|module_install_timestamp|\n",
      "+------------------+-----------+--------------------+------------------------+\n",
      "| 981S2L5PU6BR1UE6S|        CRA|   ACL4G7DD9R581VTBN|     2016-09-29 21:37:13|\n",
      "| W7DCXNIU1V1PDXK17|        FIN|   CT0VC6EKQ20H1R0RE|     2016-09-17 01:38:54|\n",
      "| TKQ9IDBT20J7PSMI3|        SID|   OZW8QVDUWAMMD2N98|     2016-09-22 02:18:18|\n",
      "| S19HT025HIZZ5L2BS|        FIN|   5VLF129WX8IIZSU6Y|     2016-09-07 02:21:49|\n",
      "| NLGQGZFF5I9PE89JH|        CRA|   60OHPICJWA0ALK945|     2016-09-17 15:32:46|\n",
      "|     L818V2T4CET7E|        SUB|   0860T7WMKI6Z05FY7|     2016-09-17 03:54:22|\n",
      "| VWO2W7Q6149MGYXEF|        CRA|   KJB70OUG7MF01GO79|     2016-09-15 21:24:51|\n",
      "| YU2LGATXEELZZFIO8|        SID|   8H3PI1E8LRJAQ7JR1|     2016-09-28 14:22:59|\n",
      "| E0898YO9BLCK0YW7E|        CRA|   PQ5GK27C74TR1ABH4|     2016-08-31 03:47:11|\n",
      "|     U4BOOZRMW1OJ0|        SUB|   0E0ARAU541EZGBURT|     2016-09-20 08:11:24|\n",
      "| WKRQ6AE4DX8IIZRWZ|        CRA|   EY216N9DY76AURJ7U|     2016-09-13 02:16:26|\n",
      "| LLVMKJV50N8JZCND4|        FIN|   8XIV3H8M9QHG6LCUT|     2016-09-09 00:10:12|\n",
      "| 4SW2PGN2RTIOO8M2S|        SID|   T65H7L84SASPHUPAS|     2016-09-15 10:49:44|\n",
      "| K8BER2BZBFUE8G8A3|        FIN|   2BZOJQ5Q0BP1YIIJS|     2016-09-19 11:24:55|\n",
      "| O2ILZRHTBAIWVIL33|        SID|   GS7Z43PJH9HLB0V08|     2016-09-20 13:40:26|\n",
      "| IFWA36PDOQMNG84NL|        CRA|   6ESE3O6O4KCWQRL04|     2016-09-06 02:51:45|\n",
      "| 4BU2KBW1NZ86K06MM|        SID|   MN0LCCPR2L2ODNS3X|     2016-09-08 01:14:31|\n",
      "| AVN3ISPQMH97DGUQ7|        CRA|   6GHFEEOOAYQ12FXSW|     2016-09-22 16:54:59|\n",
      "| WXNLO4XBCEP3DAHOT|        SID|   BUHY37EAO8ZD86NZT|     2016-09-28 07:58:29|\n",
      "| 6Z0TTPYAM5YKXJ9FF|        FIN|   893C6SNKAMX9LCWVF|     2016-09-29 10:19:57|\n",
      "+------------------+-----------+--------------------+------------------------+\n",
      "only showing top 20 rows\n",
      "\n"
     ]
    }
   ],
   "source": [
    "module_data_datetime = spark.sql(\"SELECT unit_serial_number, module_name, module_serial_number, CAST(UNIX_TIMESTAMP(module_install_timestamp, 'MM/dd/yyyy hh:mm:ss  aa') AS TIMESTAMP) AS module_install_timestamp from module_data\")\n",
    "module_data_datetime.show()\n",
    "module_data_datetime.createOrReplaceTempView(\"module_data_datetime\")"
   ]
  },
  {
   "cell_type": "code",
   "execution_count": 79,
   "metadata": {},
   "outputs": [
    {
     "data": {
      "text/plain": [
       "55821"
      ]
     },
     "execution_count": 79,
     "metadata": {},
     "output_type": "execute_result"
    }
   ],
   "source": [
    "module_data_datetime.count()"
   ]
  },
  {
   "cell_type": "code",
   "execution_count": 84,
   "metadata": {},
   "outputs": [
    {
     "name": "stdout",
     "output_type": "stream",
     "text": [
      "+------------------+--------------+---------------------+-----------+\n",
      "|unit_serial_number|  station_name|min_station_timestamp|test_result|\n",
      "+------------------+--------------+---------------------+-----------+\n",
      "|     0063F8BPZ8EES|A Test Station|  2016-08-31 22:29:05|       PASS|\n",
      "|     009U17DBNGCGD|A Test Station|  2016-09-28 23:46:22|       PASS|\n",
      "|     00AVU3GBGHJ1X|A Test Station|  2016-09-27 04:23:31|       PASS|\n",
      "|     00AWNTFXDCE12|A Test Station|  2016-09-21 02:28:14|       PASS|\n",
      "|     00AZO1CSBWM5U|A Test Station|  2016-09-21 03:05:23|       PASS|\n",
      "|     00BU3ZXW3J5QZ|A Test Station|  2016-09-15 01:33:47|       PASS|\n",
      "|     00EWYSLJ1IQ9G|A Test Station|  2016-09-28 21:23:24|       PASS|\n",
      "|     00FT0UM57W1SH|A Test Station|  2016-09-06 04:00:41|       PASS|\n",
      "|     00K7BVTVTVMTP|A Test Station|  2016-09-23 04:06:57|       PASS|\n",
      "|     00KB9ZDIYEDN3|A Test Station|  2016-09-17 23:23:22|       PASS|\n",
      "|     00QNXOFRU444T|A Test Station|  2016-09-03 10:49:25|       PASS|\n",
      "|     00R311IAUKD3T|A Test Station|  2016-09-11 02:08:31|       PASS|\n",
      "|     00RKALOZ26KXT|A Test Station|  2016-09-11 16:42:31|       PASS|\n",
      "|     00T8BV9MT339H|A Test Station|  2016-09-02 04:37:12|       PASS|\n",
      "|     00T8K48PWQJC6|A Test Station|  2016-09-09 22:24:24|       PASS|\n",
      "|     018YDII5TVNQC|A Test Station|  2016-09-12 08:53:02|       PASS|\n",
      "|     01AQ8ZP2HVAH2|A Test Station|  2016-09-11 18:13:56|       PASS|\n",
      "|     01D0MF46RDXTD|A Test Station|  2016-09-17 04:05:32|       PASS|\n",
      "|     01DY1ECJNV802|A Test Station|  2016-09-27 23:41:26|       PASS|\n",
      "|     01GXQ9I17QQBH|A Test Station|  2016-09-20 09:17:23|       PASS|\n",
      "+------------------+--------------+---------------------+-----------+\n",
      "only showing top 20 rows\n",
      "\n"
     ]
    }
   ],
   "source": [
    "first_test_data = spark.sql(\"SELECT unit_serial_number, station_name, min(station_timestamp) as min_station_timestamp, test_result from test_data_datetime WHERE test_result = 'PASS' group by unit_serial_number, station_name, test_result order by unit_serial_number\")\n",
    "first_test_data.show()\n",
    "first_test_data.createOrReplaceTempView(\"first_test_data\")"
   ]
  },
  {
   "cell_type": "code",
   "execution_count": 85,
   "metadata": {},
   "outputs": [
    {
     "data": {
      "text/plain": [
       "9909"
      ]
     },
     "execution_count": 85,
     "metadata": {},
     "output_type": "execute_result"
    }
   ],
   "source": [
    "first_test_data.count()"
   ]
  },
  {
   "cell_type": "code",
   "execution_count": 86,
   "metadata": {
    "scrolled": true
   },
   "outputs": [
    {
     "name": "stdout",
     "output_type": "stream",
     "text": [
      "+------------------+--------------+---------------------+-----------+------------------+-----------+--------------------+------------------------+\n",
      "|unit_serial_number|  station_name|min_station_timestamp|test_result|unit_serial_number|module_name|module_serial_number|module_install_timestamp|\n",
      "+------------------+--------------+---------------------+-----------+------------------+-----------+--------------------+------------------------+\n",
      "|     0063F8BPZ8EES|A Test Station|  2016-08-31 22:29:05|       PASS|     0063F8BPZ8EES|        SUB|   HUAZXOVJTV9OYFUK2|     2016-09-03 13:48:21|\n",
      "|     0063F8BPZ8EES|A Test Station|  2016-08-31 22:29:05|       PASS|     0063F8BPZ8EES|        SUB|   HUAZXOVJTV9OYFUK2|     2017-02-24 12:58:19|\n",
      "|     0063F8BPZ8EES|A Test Station|  2016-08-31 22:29:05|       PASS|     0063F8BPZ8EES|        SUB|   5KLNPS5FDWF0PIHSQ|     2016-08-31 11:17:05|\n",
      "|     0063F8BPZ8EES|A Test Station|  2016-08-31 22:29:05|       PASS|     0063F8BPZ8EES|        SUB|   HUAZXOVJTV9OYFUK2|     2016-09-01 15:37:36|\n",
      "|     0063F8BPZ8EES|A Test Station|  2016-08-31 22:29:05|       PASS|     0063F8BPZ8EES|        SUB|   5KLNPS5FDWF0PIHSQ|     2016-09-01 04:24:06|\n",
      "|     009U17DBNGCGD|A Test Station|  2016-09-28 23:46:22|       PASS|     009U17DBNGCGD|        SUB|   LTRZ3ZNEQZYUPU8H7|     2016-09-30 11:46:01|\n",
      "|     009U17DBNGCGD|A Test Station|  2016-09-28 23:46:22|       PASS|     009U17DBNGCGD|        SUB|   LTRZ3ZNEQZYUPU8H7|     2016-09-28 13:27:33|\n",
      "|     00AVU3GBGHJ1X|A Test Station|  2016-09-27 04:23:31|       PASS|     00AVU3GBGHJ1X|        SUB|   ODNEU5KY9RKPGEGHU|     2016-09-26 18:45:16|\n",
      "|     00AWNTFXDCE12|A Test Station|  2016-09-21 02:28:14|       PASS|     00AWNTFXDCE12|        SUB|   3L9XBEC22L4A42B9A|     2016-09-19 13:16:23|\n",
      "|     00AWNTFXDCE12|A Test Station|  2016-09-21 02:28:14|       PASS|     00AWNTFXDCE12|        SUB|   UVOX5OP3DTS9LP5K6|     2016-09-24 10:42:53|\n",
      "|     00AWNTFXDCE12|A Test Station|  2016-09-21 02:28:14|       PASS|     00AWNTFXDCE12|        SUB|   UVOX5OP3DTS9LP5K6|     2016-09-20 15:35:18|\n",
      "|     00AWNTFXDCE12|A Test Station|  2016-09-21 02:28:14|       PASS|     00AWNTFXDCE12|        SUB|   3L9XBEC22L4A42B9A|     2016-09-19 10:03:35|\n",
      "|     00AZO1CSBWM5U|A Test Station|  2016-09-21 03:05:23|       PASS|     00AZO1CSBWM5U|        SUB|   8OSOJSB06W42SWHQY|     2016-09-22 02:52:55|\n",
      "|     00AZO1CSBWM5U|A Test Station|  2016-09-21 03:05:23|       PASS|     00AZO1CSBWM5U|        SUB|   8OSOJSB06W42SWHQY|     2016-09-20 13:01:40|\n",
      "|     00BU3ZXW3J5QZ|A Test Station|  2016-09-15 01:33:47|       PASS|     00BU3ZXW3J5QZ|        SUB|   1ZDWO2COQTP2H0SQY|     2016-09-15 15:53:24|\n",
      "|     00BU3ZXW3J5QZ|A Test Station|  2016-09-15 01:33:47|       PASS|     00BU3ZXW3J5QZ|        SUB|   1ZDWO2COQTP2H0SQY|     2016-09-14 15:17:48|\n",
      "|     00EWYSLJ1IQ9G|A Test Station|  2016-09-28 21:23:24|       PASS|     00EWYSLJ1IQ9G|        SUB|   G3OC3ULGAUPCL0EED|     2016-09-28 09:33:29|\n",
      "|     00EWYSLJ1IQ9G|A Test Station|  2016-09-28 21:23:24|       PASS|     00EWYSLJ1IQ9G|        SUB|   G3OC3ULGAUPCL0EED|     2016-09-30 03:25:07|\n",
      "|     00FT0UM57W1SH|A Test Station|  2016-09-06 04:00:41|       PASS|     00FT0UM57W1SH|        SUB|   8WA5T6I4QQZ0GYSND|     2016-09-20 11:59:31|\n",
      "|     00FT0UM57W1SH|A Test Station|  2016-09-06 04:00:41|       PASS|     00FT0UM57W1SH|        SUB|   8WA5T6I4QQZ0GYSND|     2016-09-13 02:15:17|\n",
      "+------------------+--------------+---------------------+-----------+------------------+-----------+--------------------+------------------------+\n",
      "only showing top 20 rows\n",
      "\n"
     ]
    },
    {
     "data": {
      "text/plain": [
       "19125"
      ]
     },
     "execution_count": 86,
     "metadata": {},
     "output_type": "execute_result"
    }
   ],
   "source": [
    "rel1 = spark.sql(\"SELECT * FROM first_test_data as a join module_data_datetime as b on a.unit_serial_number=b.unit_serial_number order by a.unit_serial_number\")\n",
    "rel1.show()\n",
    "rel1.count()"
   ]
  },
  {
   "cell_type": "code",
   "execution_count": 87,
   "metadata": {},
   "outputs": [
    {
     "name": "stdout",
     "output_type": "stream",
     "text": [
      "+------------------+--------------+---------------------+-----------+--------------------+\n",
      "|unit_serial_number|  station_name|min_station_timestamp|test_result|module_serial_number|\n",
      "+------------------+--------------+---------------------+-----------+--------------------+\n",
      "|     0063F8BPZ8EES|A Test Station|  2016-08-31 22:29:05|       PASS|   HUAZXOVJTV9OYFUK2|\n",
      "|     0063F8BPZ8EES|A Test Station|  2016-08-31 22:29:05|       PASS|   HUAZXOVJTV9OYFUK2|\n",
      "|     0063F8BPZ8EES|A Test Station|  2016-08-31 22:29:05|       PASS|   5KLNPS5FDWF0PIHSQ|\n",
      "|     0063F8BPZ8EES|A Test Station|  2016-08-31 22:29:05|       PASS|   HUAZXOVJTV9OYFUK2|\n",
      "|     0063F8BPZ8EES|A Test Station|  2016-08-31 22:29:05|       PASS|   5KLNPS5FDWF0PIHSQ|\n",
      "|     009U17DBNGCGD|A Test Station|  2016-09-28 23:46:22|       PASS|   LTRZ3ZNEQZYUPU8H7|\n",
      "|     009U17DBNGCGD|A Test Station|  2016-09-28 23:46:22|       PASS|   LTRZ3ZNEQZYUPU8H7|\n",
      "|     00AVU3GBGHJ1X|A Test Station|  2016-09-27 04:23:31|       PASS|   ODNEU5KY9RKPGEGHU|\n",
      "|     00AWNTFXDCE12|A Test Station|  2016-09-21 02:28:14|       PASS|   3L9XBEC22L4A42B9A|\n",
      "|     00AWNTFXDCE12|A Test Station|  2016-09-21 02:28:14|       PASS|   UVOX5OP3DTS9LP5K6|\n",
      "|     00AWNTFXDCE12|A Test Station|  2016-09-21 02:28:14|       PASS|   UVOX5OP3DTS9LP5K6|\n",
      "|     00AWNTFXDCE12|A Test Station|  2016-09-21 02:28:14|       PASS|   3L9XBEC22L4A42B9A|\n",
      "|     00AZO1CSBWM5U|A Test Station|  2016-09-21 03:05:23|       PASS|   8OSOJSB06W42SWHQY|\n",
      "|     00AZO1CSBWM5U|A Test Station|  2016-09-21 03:05:23|       PASS|   8OSOJSB06W42SWHQY|\n",
      "|     00BU3ZXW3J5QZ|A Test Station|  2016-09-15 01:33:47|       PASS|   1ZDWO2COQTP2H0SQY|\n",
      "|     00BU3ZXW3J5QZ|A Test Station|  2016-09-15 01:33:47|       PASS|   1ZDWO2COQTP2H0SQY|\n",
      "|     00EWYSLJ1IQ9G|A Test Station|  2016-09-28 21:23:24|       PASS|   G3OC3ULGAUPCL0EED|\n",
      "|     00EWYSLJ1IQ9G|A Test Station|  2016-09-28 21:23:24|       PASS|   G3OC3ULGAUPCL0EED|\n",
      "|     00FT0UM57W1SH|A Test Station|  2016-09-06 04:00:41|       PASS|   8WA5T6I4QQZ0GYSND|\n",
      "|     00FT0UM57W1SH|A Test Station|  2016-09-06 04:00:41|       PASS|   8WA5T6I4QQZ0GYSND|\n",
      "+------------------+--------------+---------------------+-----------+--------------------+\n",
      "only showing top 20 rows\n",
      "\n"
     ]
    }
   ],
   "source": [
    "rel1_less = spark.sql(\"SELECT a.*, b.module_serial_number FROM first_test_data as a join module_data_datetime as b on a.unit_serial_number=b.unit_serial_number order by a.unit_serial_number\")\n",
    "rel1_less.show()\n",
    "rel1_less.count()\n",
    "rel1_less.createOrReplaceTempView(\"rel1_less\")"
   ]
  },
  {
   "cell_type": "code",
   "execution_count": 88,
   "metadata": {},
   "outputs": [],
   "source": [
    "#result = module_data.where(module_data.unit_serial_number == '0860T7WMKI6Z05FY7')\n",
    "#result.show()"
   ]
  },
  {
   "cell_type": "code",
   "execution_count": 89,
   "metadata": {},
   "outputs": [
    {
     "name": "stdout",
     "output_type": "stream",
     "text": [
      "+------------------+-----------+--------------------+------------------------+------------------+-----------+--------------------+------------------------+\n",
      "|unit_serial_number|module_name|module_serial_number|module_install_timestamp|unit_serial_number|module_name|module_serial_number|module_install_timestamp|\n",
      "+------------------+-----------+--------------------+------------------------+------------------+-----------+--------------------+------------------------+\n",
      "|     0063F8BPZ8EES|        SUB|   HUAZXOVJTV9OYFUK2|     2016-09-01 15:37:36| HUAZXOVJTV9OYFUK2|        SID|   PZBZUNPON101SUBPF|     2016-09-01 12:21:21|\n",
      "|     0063F8BPZ8EES|        SUB|   HUAZXOVJTV9OYFUK2|     2016-09-03 13:48:21| HUAZXOVJTV9OYFUK2|        SID|   PZBZUNPON101SUBPF|     2016-09-01 12:21:21|\n",
      "|     0063F8BPZ8EES|        SUB|   HUAZXOVJTV9OYFUK2|     2017-02-24 12:58:19| HUAZXOVJTV9OYFUK2|        FIN|   ODOMLQ6QBWCH0T3OV|     2016-09-01 13:24:43|\n",
      "|     0063F8BPZ8EES|        SUB|   HUAZXOVJTV9OYFUK2|     2016-09-01 15:37:36| HUAZXOVJTV9OYFUK2|        FIN|   ODOMLQ6QBWCH0T3OV|     2016-09-01 13:24:43|\n",
      "|     0063F8BPZ8EES|        SUB|   5KLNPS5FDWF0PIHSQ|     2016-08-31 11:17:05| 5KLNPS5FDWF0PIHSQ|        SID|   8GQ3Y6OCAMWLSK5V5|     2016-08-31 04:05:36|\n",
      "|     0063F8BPZ8EES|        SUB|   5KLNPS5FDWF0PIHSQ|     2016-08-31 11:17:05| 5KLNPS5FDWF0PIHSQ|        CRA|   4MSB9E4CB1VTZ8C8T|     2016-08-31 04:05:36|\n",
      "|     0063F8BPZ8EES|        SUB|   5KLNPS5FDWF0PIHSQ|     2016-09-01 04:24:06| 5KLNPS5FDWF0PIHSQ|        FIN|   V6K9P9EJXNSKI742Z|     2016-08-31 05:45:53|\n",
      "|     0063F8BPZ8EES|        SUB|   5KLNPS5FDWF0PIHSQ|     2016-09-01 04:24:06| 5KLNPS5FDWF0PIHSQ|        SID|   8GQ3Y6OCAMWLSK5V5|     2016-08-31 04:05:36|\n",
      "|     0063F8BPZ8EES|        SUB|   5KLNPS5FDWF0PIHSQ|     2016-09-01 04:24:06| 5KLNPS5FDWF0PIHSQ|        CRA|   4MSB9E4CB1VTZ8C8T|     2016-08-31 04:05:36|\n",
      "|     0063F8BPZ8EES|        SUB|   HUAZXOVJTV9OYFUK2|     2017-02-24 12:58:19| HUAZXOVJTV9OYFUK2|        SID|   PZBZUNPON101SUBPF|     2016-09-01 12:21:21|\n",
      "|     0063F8BPZ8EES|        SUB|   HUAZXOVJTV9OYFUK2|     2016-09-01 15:37:36| HUAZXOVJTV9OYFUK2|        CRA|   6WNAE508UBG3XZBOD|     2016-09-01 12:21:21|\n",
      "|     0063F8BPZ8EES|        SUB|   HUAZXOVJTV9OYFUK2|     2017-02-24 12:58:19| HUAZXOVJTV9OYFUK2|        CRA|   6WNAE508UBG3XZBOD|     2016-09-01 12:21:21|\n",
      "|     0063F8BPZ8EES|        SUB|   HUAZXOVJTV9OYFUK2|     2016-09-03 13:48:21| HUAZXOVJTV9OYFUK2|        CRA|   6WNAE508UBG3XZBOD|     2016-09-01 12:21:21|\n",
      "|     0063F8BPZ8EES|        SUB|   5KLNPS5FDWF0PIHSQ|     2016-08-31 11:17:05| 5KLNPS5FDWF0PIHSQ|        FIN|   V6K9P9EJXNSKI742Z|     2016-08-31 05:45:53|\n",
      "|     0063F8BPZ8EES|        SUB|   HUAZXOVJTV9OYFUK2|     2016-09-03 13:48:21| HUAZXOVJTV9OYFUK2|        FIN|   ODOMLQ6QBWCH0T3OV|     2016-09-01 13:24:43|\n",
      "|     009U17DBNGCGD|        SUB|   LTRZ3ZNEQZYUPU8H7|     2016-09-28 13:27:33| LTRZ3ZNEQZYUPU8H7|        CRA|   LYF6UQNXPZG6TYSHS|     2016-09-28 08:19:55|\n",
      "|     009U17DBNGCGD|        SUB|   LTRZ3ZNEQZYUPU8H7|     2016-09-28 13:27:33| LTRZ3ZNEQZYUPU8H7|        SID|   WGFFQ2BTJH3Y20ULG|     2016-09-28 08:19:55|\n",
      "|     009U17DBNGCGD|        SUB|   LTRZ3ZNEQZYUPU8H7|     2016-09-28 13:27:33| LTRZ3ZNEQZYUPU8H7|        FIN|   LUK6NBMJTZUW099OV|     2016-09-28 08:45:41|\n",
      "|     009U17DBNGCGD|        SUB|   LTRZ3ZNEQZYUPU8H7|     2016-09-30 11:46:01| LTRZ3ZNEQZYUPU8H7|        SID|   WGFFQ2BTJH3Y20ULG|     2016-09-28 08:19:55|\n",
      "|     009U17DBNGCGD|        SUB|   LTRZ3ZNEQZYUPU8H7|     2016-09-30 11:46:01| LTRZ3ZNEQZYUPU8H7|        CRA|   LYF6UQNXPZG6TYSHS|     2016-09-28 08:19:55|\n",
      "+------------------+-----------+--------------------+------------------------+------------------+-----------+--------------------+------------------------+\n",
      "only showing top 20 rows\n",
      "\n"
     ]
    },
    {
     "data": {
      "text/plain": [
       "62280"
      ]
     },
     "execution_count": 89,
     "metadata": {},
     "output_type": "execute_result"
    }
   ],
   "source": [
    "rel2 = spark.sql(\"SELECT * FROM module_data_datetime as a join module_data_datetime as b on a.module_serial_number=b.unit_serial_number order by a.unit_serial_number\")\n",
    "rel2.show()\n",
    "rel2.count()"
   ]
  },
  {
   "cell_type": "code",
   "execution_count": 90,
   "metadata": {},
   "outputs": [
    {
     "name": "stdout",
     "output_type": "stream",
     "text": [
      "+----------------------+-----------+------------------------+------------------------+\n",
      "|sub_unit_serial_number|module_name|sub_module_serial_number|module_install_timestamp|\n",
      "+----------------------+-----------+------------------------+------------------------+\n",
      "|     HUAZXOVJTV9OYFUK2|        CRA|       6WNAE508UBG3XZBOD|     2016-09-01 12:21:21|\n",
      "|     5KLNPS5FDWF0PIHSQ|        CRA|       4MSB9E4CB1VTZ8C8T|     2016-08-31 04:05:36|\n",
      "|     HUAZXOVJTV9OYFUK2|        SID|       PZBZUNPON101SUBPF|     2016-09-01 12:21:21|\n",
      "|     HUAZXOVJTV9OYFUK2|        CRA|       6WNAE508UBG3XZBOD|     2016-09-01 12:21:21|\n",
      "|     HUAZXOVJTV9OYFUK2|        FIN|       ODOMLQ6QBWCH0T3OV|     2016-09-01 13:24:43|\n",
      "|     HUAZXOVJTV9OYFUK2|        FIN|       ODOMLQ6QBWCH0T3OV|     2016-09-01 13:24:43|\n",
      "|     HUAZXOVJTV9OYFUK2|        FIN|       ODOMLQ6QBWCH0T3OV|     2016-09-01 13:24:43|\n",
      "|     5KLNPS5FDWF0PIHSQ|        FIN|       V6K9P9EJXNSKI742Z|     2016-08-31 05:45:53|\n",
      "|     5KLNPS5FDWF0PIHSQ|        FIN|       V6K9P9EJXNSKI742Z|     2016-08-31 05:45:53|\n",
      "|     HUAZXOVJTV9OYFUK2|        SID|       PZBZUNPON101SUBPF|     2016-09-01 12:21:21|\n",
      "|     HUAZXOVJTV9OYFUK2|        SID|       PZBZUNPON101SUBPF|     2016-09-01 12:21:21|\n",
      "|     5KLNPS5FDWF0PIHSQ|        SID|       8GQ3Y6OCAMWLSK5V5|     2016-08-31 04:05:36|\n",
      "|     HUAZXOVJTV9OYFUK2|        CRA|       6WNAE508UBG3XZBOD|     2016-09-01 12:21:21|\n",
      "|     5KLNPS5FDWF0PIHSQ|        SID|       8GQ3Y6OCAMWLSK5V5|     2016-08-31 04:05:36|\n",
      "|     5KLNPS5FDWF0PIHSQ|        CRA|       4MSB9E4CB1VTZ8C8T|     2016-08-31 04:05:36|\n",
      "|     LTRZ3ZNEQZYUPU8H7|        FIN|       LUK6NBMJTZUW099OV|     2016-09-28 08:45:41|\n",
      "|     LTRZ3ZNEQZYUPU8H7|        FIN|       LUK6NBMJTZUW099OV|     2016-09-28 08:45:41|\n",
      "|     LTRZ3ZNEQZYUPU8H7|        SID|       WGFFQ2BTJH3Y20ULG|     2016-09-28 08:19:55|\n",
      "|     LTRZ3ZNEQZYUPU8H7|        CRA|       LYF6UQNXPZG6TYSHS|     2016-09-28 08:19:55|\n",
      "|     LTRZ3ZNEQZYUPU8H7|        SID|       WGFFQ2BTJH3Y20ULG|     2016-09-28 08:19:55|\n",
      "+----------------------+-----------+------------------------+------------------------+\n",
      "only showing top 20 rows\n",
      "\n"
     ]
    }
   ],
   "source": [
    "rel2_less = spark.sql(\"SELECT b.unit_serial_number as sub_unit_serial_number, b.module_name, b.module_serial_number as sub_module_serial_number, b.module_install_timestamp FROM module_data_datetime as a join module_data_datetime as b on a.module_serial_number=b.unit_serial_number order by a.unit_serial_number\")\n",
    "rel2_less.show()\n",
    "rel2_less.count()\n",
    "rel2_less.createOrReplaceTempView(\"rel2_less\")"
   ]
  },
  {
   "cell_type": "code",
   "execution_count": 91,
   "metadata": {},
   "outputs": [
    {
     "name": "stdout",
     "output_type": "stream",
     "text": [
      "+------------------+--------------+---------------------+-----------+--------------------+----------------------+-----------+------------------------+------------------------+\n",
      "|unit_serial_number|  station_name|min_station_timestamp|test_result|module_serial_number|sub_unit_serial_number|module_name|sub_module_serial_number|module_install_timestamp|\n",
      "+------------------+--------------+---------------------+-----------+--------------------+----------------------+-----------+------------------------+------------------------+\n",
      "|     0063F8BPZ8EES|A Test Station|  2016-08-31 22:29:05|       PASS|   5KLNPS5FDWF0PIHSQ|     5KLNPS5FDWF0PIHSQ|        FIN|       V6K9P9EJXNSKI742Z|     2016-08-31 05:45:53|\n",
      "|     0063F8BPZ8EES|A Test Station|  2016-08-31 22:29:05|       PASS|   5KLNPS5FDWF0PIHSQ|     5KLNPS5FDWF0PIHSQ|        CRA|       4MSB9E4CB1VTZ8C8T|     2016-08-31 04:05:36|\n",
      "|     0063F8BPZ8EES|A Test Station|  2016-08-31 22:29:05|       PASS|   5KLNPS5FDWF0PIHSQ|     5KLNPS5FDWF0PIHSQ|        SID|       8GQ3Y6OCAMWLSK5V5|     2016-08-31 04:05:36|\n",
      "|     009U17DBNGCGD|A Test Station|  2016-09-28 23:46:22|       PASS|   LTRZ3ZNEQZYUPU8H7|     LTRZ3ZNEQZYUPU8H7|        CRA|       LYF6UQNXPZG6TYSHS|     2016-09-28 08:19:55|\n",
      "|     009U17DBNGCGD|A Test Station|  2016-09-28 23:46:22|       PASS|   LTRZ3ZNEQZYUPU8H7|     LTRZ3ZNEQZYUPU8H7|        SID|       WGFFQ2BTJH3Y20ULG|     2016-09-28 08:19:55|\n",
      "|     009U17DBNGCGD|A Test Station|  2016-09-28 23:46:22|       PASS|   LTRZ3ZNEQZYUPU8H7|     LTRZ3ZNEQZYUPU8H7|        FIN|       LUK6NBMJTZUW099OV|     2016-09-28 08:45:41|\n",
      "|     00AVU3GBGHJ1X|A Test Station|  2016-09-27 04:23:31|       PASS|   ODNEU5KY9RKPGEGHU|     ODNEU5KY9RKPGEGHU|        SID|       TKCN8HA8NHD6EQYJ0|     2016-09-26 07:22:41|\n",
      "|     00AVU3GBGHJ1X|A Test Station|  2016-09-27 04:23:31|       PASS|   ODNEU5KY9RKPGEGHU|     ODNEU5KY9RKPGEGHU|        CRA|       SNCZFE3CFZUJXQFZH|     2016-09-26 07:22:41|\n",
      "|     00AVU3GBGHJ1X|A Test Station|  2016-09-27 04:23:31|       PASS|   ODNEU5KY9RKPGEGHU|     ODNEU5KY9RKPGEGHU|        FIN|       1OW9WKL63CFEMQTDN|     2016-09-26 07:32:37|\n",
      "|     00AWNTFXDCE12|A Test Station|  2016-09-21 02:28:14|       PASS|   UVOX5OP3DTS9LP5K6|     UVOX5OP3DTS9LP5K6|        SID|       PHJ6ASYK416NZPPQD|     2016-09-20 12:25:17|\n",
      "|     00AWNTFXDCE12|A Test Station|  2016-09-21 02:28:14|       PASS|   3L9XBEC22L4A42B9A|     3L9XBEC22L4A42B9A|        FIN|       6UFHP98UYSIIBV51G|     2016-09-18 22:24:40|\n",
      "|     00AWNTFXDCE12|A Test Station|  2016-09-21 02:28:14|       PASS|   UVOX5OP3DTS9LP5K6|     UVOX5OP3DTS9LP5K6|        FIN|       2T1X6SK4LQ32KGGST|     2016-09-20 13:17:32|\n",
      "|     00AWNTFXDCE12|A Test Station|  2016-09-21 02:28:14|       PASS|   3L9XBEC22L4A42B9A|     3L9XBEC22L4A42B9A|        SID|       7AT2V7DUG9BRH5IKR|     2016-09-18 20:28:58|\n",
      "|     00AWNTFXDCE12|A Test Station|  2016-09-21 02:28:14|       PASS|   3L9XBEC22L4A42B9A|     3L9XBEC22L4A42B9A|        CRA|       FE1EDIOPD8YNNXGHQ|     2016-09-18 20:28:58|\n",
      "|     00AWNTFXDCE12|A Test Station|  2016-09-21 02:28:14|       PASS|   UVOX5OP3DTS9LP5K6|     UVOX5OP3DTS9LP5K6|        CRA|       C67YXUSKH1PGEF3R7|     2016-09-20 12:25:17|\n",
      "|     00AZO1CSBWM5U|A Test Station|  2016-09-21 03:05:23|       PASS|   8OSOJSB06W42SWHQY|     8OSOJSB06W42SWHQY|        CRA|       RE1SH0TEEF0GC3FPE|     2016-09-20 08:11:26|\n",
      "|     00AZO1CSBWM5U|A Test Station|  2016-09-21 03:05:23|       PASS|   8OSOJSB06W42SWHQY|     8OSOJSB06W42SWHQY|        SID|       6VKOJ6PW0NNIJZ06K|     2016-09-20 08:11:26|\n",
      "|     00AZO1CSBWM5U|A Test Station|  2016-09-21 03:05:23|       PASS|   8OSOJSB06W42SWHQY|     8OSOJSB06W42SWHQY|        FIN|       IUYJOJNQABI8DMJL8|     2016-09-20 08:31:50|\n",
      "|     00BU3ZXW3J5QZ|A Test Station|  2016-09-15 01:33:47|       PASS|   1ZDWO2COQTP2H0SQY|     1ZDWO2COQTP2H0SQY|        CRA|       WNO0C490O02XMHKZZ|     2016-09-14 02:16:45|\n",
      "|     00BU3ZXW3J5QZ|A Test Station|  2016-09-15 01:33:47|       PASS|   1ZDWO2COQTP2H0SQY|     1ZDWO2COQTP2H0SQY|        SID|       KK1SJTCIPS1YS2DZ7|     2016-09-14 02:16:45|\n",
      "+------------------+--------------+---------------------+-----------+--------------------+----------------------+-----------+------------------------+------------------------+\n",
      "only showing top 20 rows\n",
      "\n"
     ]
    }
   ],
   "source": [
    "rel3 = spark.sql(\"SELECT distinct(*) FROM rel1_less as a join rel2_less as b on a.module_serial_number=b.sub_unit_serial_number where b.module_install_timestamp <= a.min_station_timestamp order by a.unit_serial_number\")\n",
    "rel3.show()\n",
    "rel3.count()\n",
    "rel3.createOrReplaceTempView(\"rel3\")"
   ]
  },
  {
   "cell_type": "code",
   "execution_count": 92,
   "metadata": {},
   "outputs": [
    {
     "name": "stdout",
     "output_type": "stream",
     "text": [
      "+------------------+--------------+-------------------+-----------+------------------------+----------------------------+------------------------+----------------------------+------------------------+----------------------------+\n",
      "|unit_serial_number|  station_name|  station_timestamp|test_result|SID_module_serial_number|SID_module_install_timestamp|FIN_module_serial_number|FIN_module_install_timestamp|CRA_module_serial_number|CRA_module_install_timestamp|\n",
      "+------------------+--------------+-------------------+-----------+------------------------+----------------------------+------------------------+----------------------------+------------------------+----------------------------+\n",
      "|     0063F8BPZ8EES|A Test Station|2016-08-31 22:29:05|       PASS|       5KLNPS5FDWF0PIHSQ|         2016-08-31 04:05:36|       5KLNPS5FDWF0PIHSQ|         2016-08-31 05:45:53|       5KLNPS5FDWF0PIHSQ|         2016-08-31 04:05:36|\n",
      "|     009U17DBNGCGD|A Test Station|2016-09-28 23:46:22|       PASS|       LTRZ3ZNEQZYUPU8H7|         2016-09-28 08:19:55|       LTRZ3ZNEQZYUPU8H7|         2016-09-28 08:45:41|       LTRZ3ZNEQZYUPU8H7|         2016-09-28 08:19:55|\n",
      "|     00AVU3GBGHJ1X|A Test Station|2016-09-27 04:23:31|       PASS|       ODNEU5KY9RKPGEGHU|         2016-09-26 07:22:41|       ODNEU5KY9RKPGEGHU|         2016-09-26 07:32:37|       ODNEU5KY9RKPGEGHU|         2016-09-26 07:22:41|\n",
      "|     00AWNTFXDCE12|A Test Station|2016-09-21 02:28:14|       PASS|       UVOX5OP3DTS9LP5K6|         2016-09-20 12:25:17|       UVOX5OP3DTS9LP5K6|         2016-09-20 13:17:32|       UVOX5OP3DTS9LP5K6|         2016-09-20 12:25:17|\n",
      "|     00AZO1CSBWM5U|A Test Station|2016-09-21 03:05:23|       PASS|       8OSOJSB06W42SWHQY|         2016-09-20 08:11:26|       8OSOJSB06W42SWHQY|         2016-09-20 08:31:50|       8OSOJSB06W42SWHQY|         2016-09-20 08:11:26|\n",
      "|     00BU3ZXW3J5QZ|A Test Station|2016-09-15 01:33:47|       PASS|       1ZDWO2COQTP2H0SQY|         2016-09-14 02:16:45|       1ZDWO2COQTP2H0SQY|         2016-09-14 03:18:59|       1ZDWO2COQTP2H0SQY|         2016-09-14 02:16:45|\n",
      "|     00EWYSLJ1IQ9G|A Test Station|2016-09-28 21:23:24|       PASS|       G3OC3ULGAUPCL0EED|         2016-09-28 04:14:30|       G3OC3ULGAUPCL0EED|         2016-09-28 04:35:43|       G3OC3ULGAUPCL0EED|         2016-09-28 04:14:30|\n",
      "|     00FT0UM57W1SH|A Test Station|2016-09-06 04:00:41|       PASS|       NU36OWTWRA9MLB7ZP|         2016-09-02 03:19:01|       NU36OWTWRA9MLB7ZP|         2016-09-03 02:50:48|       NU36OWTWRA9MLB7ZP|         2016-09-02 03:19:01|\n",
      "|     00K7BVTVTVMTP|A Test Station|2016-09-23 04:06:57|       PASS|       ZVLVABA46FV2D7YM3|         2016-09-22 02:38:44|       ZVLVABA46FV2D7YM3|         2016-09-22 03:06:36|       ZVLVABA46FV2D7YM3|         2016-09-22 02:38:44|\n",
      "|     00KB9ZDIYEDN3|A Test Station|2016-09-17 23:23:22|       PASS|       QZ8FMV4JUG2KCP82A|         2016-09-17 22:18:33|       QZ8FMV4JUG2KCP82A|         2016-09-17 23:12:10|       QZ8FMV4JUG2KCP82A|         2016-09-17 22:18:33|\n",
      "|     00QNXOFRU444T|A Test Station|2016-09-03 10:49:25|       PASS|       K5WFPDC6C7LOS52JA|         2016-09-02 10:25:05|       K5WFPDC6C7LOS52JA|         2016-09-02 11:51:21|       K5WFPDC6C7LOS52JA|         2016-09-02 10:25:05|\n",
      "|     00R311IAUKD3T|A Test Station|2016-09-11 02:08:31|       PASS|       KGQ2ELZEGDW2GQPUD|         2016-09-10 10:28:47|       KGQ2ELZEGDW2GQPUD|         2016-09-10 10:45:57|       KGQ2ELZEGDW2GQPUD|         2016-09-10 10:28:47|\n",
      "|     00RKALOZ26KXT|A Test Station|2016-09-11 16:42:31|       PASS|       1XT2PNO94PX8B74SI|         2016-09-10 11:33:07|       1XT2PNO94PX8B74SI|         2016-09-10 11:43:08|       1XT2PNO94PX8B74SI|         2016-09-10 11:33:07|\n",
      "|     00T8BV9MT339H|A Test Station|2016-09-02 04:37:12|       PASS|       JKV2YYGK7IJ00QB8M|         2016-09-01 14:35:45|       JKV2YYGK7IJ00QB8M|         2016-09-01 14:50:27|       JKV2YYGK7IJ00QB8M|         2016-09-01 14:35:45|\n",
      "|     00T8K48PWQJC6|A Test Station|2016-09-09 22:24:24|       PASS|       3XG9MQXGVU83BJOV5|         2016-09-08 16:44:27|       3XG9MQXGVU83BJOV5|         2016-09-08 17:09:06|       3XG9MQXGVU83BJOV5|         2016-09-08 16:44:27|\n",
      "|     018YDII5TVNQC|A Test Station|2016-09-12 08:53:02|       PASS|       2GXMBY78G40QM7D6P|         2016-09-10 17:46:42|       2GXMBY78G40QM7D6P|         2016-09-11 01:46:34|       2GXMBY78G40QM7D6P|         2016-09-10 17:46:42|\n",
      "|     01AQ8ZP2HVAH2|A Test Station|2016-09-11 18:13:56|       PASS|       NI2ZBX9KXHJ26071U|         2016-09-03 14:24:27|       NI2ZBX9KXHJ26071U|         2016-09-03 14:34:23|       NI2ZBX9KXHJ26071U|         2016-09-03 14:24:27|\n",
      "|     01D0MF46RDXTD|A Test Station|2016-09-17 04:05:32|       PASS|       IK7PLPNF8A5VYMMF6|         2016-09-15 15:25:05|       IK7PLPNF8A5VYMMF6|         2016-09-15 15:45:13|       IK7PLPNF8A5VYMMF6|         2016-09-15 15:25:05|\n",
      "|     01DY1ECJNV802|A Test Station|2016-09-27 23:41:26|       PASS|       8UQ3I73FCJFZH1YKB|         2016-09-27 10:35:56|       8UQ3I73FCJFZH1YKB|         2016-09-27 11:52:20|       8UQ3I73FCJFZH1YKB|         2016-09-27 10:35:56|\n",
      "|     01GXQ9I17QQBH|A Test Station|2016-09-20 09:17:23|       PASS|       COITN628RLGKNV1SE|         2016-09-19 19:52:06|       COITN628RLGKNV1SE|         2016-09-19 20:00:25|       COITN628RLGKNV1SE|         2016-09-19 19:52:06|\n",
      "+------------------+--------------+-------------------+-----------+------------------------+----------------------------+------------------------+----------------------------+------------------------+----------------------------+\n",
      "only showing top 20 rows\n",
      "\n"
     ]
    },
    {
     "data": {
      "text/plain": [
       "9788"
      ]
     },
     "execution_count": 92,
     "metadata": {},
     "output_type": "execute_result"
    }
   ],
   "source": [
    "final = spark.sql(\"SELECT unit_serial_number,station_name,min_station_timestamp as station_timestamp,test_result,MAX(CASE WHEN module_name = 'SID' THEN module_serial_number END) AS SID_module_serial_number,MAX(CASE WHEN module_name = 'SID' THEN module_install_timestamp END) AS SID_module_install_timestamp,MAX(CASE WHEN module_name = 'FIN' THEN module_serial_number END) AS FIN_module_serial_number,MAX(CASE WHEN module_name = 'FIN' THEN module_install_timestamp END) AS FIN_module_install_timestamp,MAX(CASE WHEN module_name = 'CRA' THEN module_serial_number END) AS CRA_module_serial_number,MAX(CASE WHEN module_name = 'CRA' THEN module_install_timestamp END) AS CRA_module_install_timestamp FROM rel3 GROUP BY unit_serial_number, station_name, station_timestamp, test_result\")\n",
    "final.show()"
   ]
  },
  {
   "cell_type": "code",
   "execution_count": 93,
   "metadata": {},
   "outputs": [
    {
     "data": {
      "text/plain": [
       "9788"
      ]
     },
     "execution_count": 93,
     "metadata": {},
     "output_type": "execute_result"
    }
   ],
   "source": [
    "final.count()"
   ]
  },
  {
   "cell_type": "code",
   "execution_count": null,
   "metadata": {},
   "outputs": [],
   "source": []
  }
 ],
 "metadata": {
  "kernelspec": {
   "display_name": "Python 3",
   "language": "python",
   "name": "python3"
  },
  "language_info": {
   "codemirror_mode": {
    "name": "ipython",
    "version": 3
   },
   "file_extension": ".py",
   "mimetype": "text/x-python",
   "name": "python",
   "nbconvert_exporter": "python",
   "pygments_lexer": "ipython3",
   "version": "3.7.1"
  }
 },
 "nbformat": 4,
 "nbformat_minor": 2
}
